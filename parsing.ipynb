{
 "cells": [
  {
   "cell_type": "code",
   "execution_count": 1,
   "id": "d177ba99",
   "metadata": {},
   "outputs": [],
   "source": [
    "from bs4 import BeautifulSoup\n",
    "import requests\n",
    "import pandas as pd"
   ]
  },
  {
   "cell_type": "code",
   "execution_count": 2,
   "id": "8de0b35f",
   "metadata": {},
   "outputs": [],
   "source": [
    "briefly_url = 'https://briefly.ru'"
   ]
  },
  {
   "cell_type": "code",
   "execution_count": 3,
   "id": "2774355a",
   "metadata": {},
   "outputs": [],
   "source": [
    "def get_page(url):\n",
    "    for i in range(5):\n",
    "        r = requests.get(url)\n",
    "        if r.status_code == 200:\n",
    "            break\n",
    "    \n",
    "    if r.status_code != 200:\n",
    "        print('error on {0}: status code = {1}'.format(url, r.status_code))\n",
    "        \n",
    "    return r.text"
   ]
  },
  {
   "cell_type": "code",
   "execution_count": 4,
   "id": "275a17ba",
   "metadata": {},
   "outputs": [],
   "source": [
    "def get_authors_links():\n",
    "    authors_url = 'https://briefly.ru/authors/'\n",
    "    soup = BeautifulSoup(get_page(authors_url), 'lxml')\n",
    "    \n",
    "    authors = soup.find_all('div', class_='letter')[4] # на Д\n",
    "    \n",
    "    links = authors.find_all('a')\n",
    "    links = map(lambda tag : tag['href'], links)\n",
    "    links = filter(lambda link : not link.startswith('/surnames/'), links)\n",
    "    links = map(lambda link : briefly_url + link, links)\n",
    "    \n",
    "    return list(links)"
   ]
  },
  {
   "cell_type": "code",
   "execution_count": 19,
   "id": "e6658fca",
   "metadata": {},
   "outputs": [],
   "source": [
    "def get_summaries_links(author_url):\n",
    "    soup = BeautifulSoup(get_page(author_url), 'lxml')\n",
    "    \n",
    "    author_name = soup.find('span', class_=\"author_name long\")\n",
    "    if author_name == None:\n",
    "        author_name = soup.find('span', class_=\"author_name normal\")\n",
    "    \n",
    "    author_name = author_name.text\n",
    "    \n",
    "    summaries_block = soup.find('section', class_='works_index')\n",
    "    \n",
    "    if summaries_block == None:\n",
    "        return author_name, []\n",
    "        \n",
    "    links = summaries_block.find_all('a')\n",
    "    links = map(lambda tag : tag['href'], links)\n",
    "    links = filter(lambda link : link[0]=='/', links)\n",
    "    links = map(lambda link : briefly_url + link, links)\n",
    "    \n",
    "    \n",
    "    return author_name, list(links)"
   ]
  },
  {
   "cell_type": "code",
   "execution_count": 20,
   "id": "8f652642",
   "metadata": {},
   "outputs": [],
   "source": [
    "def get_summary(summary_url):\n",
    "    soup = BeautifulSoup(get_page(summary_url), 'lxml')\n",
    "\n",
    "    book_name = soup.find('span', class_=\"main\").text\n",
    "    \n",
    "    full = soup.find('div', id='text')\n",
    "    text_blocks = full.find_all('p')\n",
    "    text_blocks = map(lambda tag : tag.text, text_blocks)\n",
    "    \n",
    "    text_blocks = map(lambda text : text.replace(u'\\xa0', u' '), text_blocks)\n",
    "    text_blocks = map(lambda text : text.replace(u'\\u2009', u' '), text_blocks)\n",
    "\n",
    "    return book_name, list(text_blocks)"
   ]
  },
  {
   "cell_type": "code",
   "execution_count": 21,
   "id": "e8221b16",
   "metadata": {},
   "outputs": [],
   "source": [
    "def write_summary(file_id, summary):\n",
    "    path = 'summaries/' + str(file_id) + '.txt'\n",
    "    with open(path, 'w') as f:\n",
    "        for block in summary:\n",
    "            f.write(block)\n",
    "            f.write('\\n')"
   ]
  },
  {
   "cell_type": "code",
   "execution_count": 15,
   "id": "8a581a45",
   "metadata": {},
   "outputs": [],
   "source": [
    "author_links = get_authors_links()"
   ]
  },
  {
   "cell_type": "code",
   "execution_count": 23,
   "id": "b684a5c5",
   "metadata": {},
   "outputs": [],
   "source": [
    "df = pd.DataFrame(columns=['author', 'book', 'file'])"
   ]
  },
  {
   "cell_type": "code",
   "execution_count": 33,
   "id": "8687e12e",
   "metadata": {},
   "outputs": [],
   "source": [
    "file_id = 0"
   ]
  },
  {
   "cell_type": "code",
   "execution_count": 34,
   "id": "e8f0616d",
   "metadata": {},
   "outputs": [],
   "source": [
    "for author_url in author_links:\n",
    "    author_name, summaries_links = get_summaries_links(author_url)\n",
    "    if len(summaries_links) == 0:\n",
    "        continue\n",
    "    \n",
    "    for link in summaries_links:\n",
    "        book_name, summary = get_summary(link)\n",
    "        write_summary(file_id, summary)\n",
    "        df.loc[len(df)] = [author_name, book_name, file_id]\n",
    "        file_id +=1"
   ]
  },
  {
   "cell_type": "code",
   "execution_count": 38,
   "id": "aad09ef8",
   "metadata": {},
   "outputs": [
    {
     "data": {
      "text/html": [
       "<div>\n",
       "<style scoped>\n",
       "    .dataframe tbody tr th:only-of-type {\n",
       "        vertical-align: middle;\n",
       "    }\n",
       "\n",
       "    .dataframe tbody tr th {\n",
       "        vertical-align: top;\n",
       "    }\n",
       "\n",
       "    .dataframe thead th {\n",
       "        text-align: right;\n",
       "    }\n",
       "</style>\n",
       "<table border=\"1\" class=\"dataframe\">\n",
       "  <thead>\n",
       "    <tr style=\"text-align: right;\">\n",
       "      <th></th>\n",
       "      <th>author</th>\n",
       "      <th>book</th>\n",
       "      <th>file</th>\n",
       "    </tr>\n",
       "  </thead>\n",
       "  <tbody>\n",
       "    <tr>\n",
       "      <th>0</th>\n",
       "      <td>Джеральд Даррелл</td>\n",
       "      <td>Моя семья и другие звери</td>\n",
       "      <td>0</td>\n",
       "    </tr>\n",
       "    <tr>\n",
       "      <th>1</th>\n",
       "      <td>Гавриил Романович Державин</td>\n",
       "      <td>Записки</td>\n",
       "      <td>1</td>\n",
       "    </tr>\n",
       "    <tr>\n",
       "      <th>2</th>\n",
       "      <td>Джеймс Джойс</td>\n",
       "      <td>Портрет художника в юности</td>\n",
       "      <td>2</td>\n",
       "    </tr>\n",
       "    <tr>\n",
       "      <th>3</th>\n",
       "      <td>Джеймс Джойс</td>\n",
       "      <td>Улисс</td>\n",
       "      <td>3</td>\n",
       "    </tr>\n",
       "    <tr>\n",
       "      <th>4</th>\n",
       "      <td>Чарльз Диккенс</td>\n",
       "      <td>Большие надежды</td>\n",
       "      <td>4</td>\n",
       "    </tr>\n",
       "    <tr>\n",
       "      <th>...</th>\n",
       "      <td>...</td>\n",
       "      <td>...</td>\n",
       "      <td>...</td>\n",
       "    </tr>\n",
       "    <tr>\n",
       "      <th>96</th>\n",
       "      <td>Александр Дюма</td>\n",
       "      <td>Виконт де Бражелон</td>\n",
       "      <td>96</td>\n",
       "    </tr>\n",
       "    <tr>\n",
       "      <th>97</th>\n",
       "      <td>Александр Дюма</td>\n",
       "      <td>Граф Монте-Кристо</td>\n",
       "      <td>97</td>\n",
       "    </tr>\n",
       "    <tr>\n",
       "      <th>98</th>\n",
       "      <td>Александр Дюма</td>\n",
       "      <td>Двадцать лет спустя</td>\n",
       "      <td>98</td>\n",
       "    </tr>\n",
       "    <tr>\n",
       "      <th>99</th>\n",
       "      <td>Александр Дюма</td>\n",
       "      <td>Королева Марго</td>\n",
       "      <td>99</td>\n",
       "    </tr>\n",
       "    <tr>\n",
       "      <th>100</th>\n",
       "      <td>Александр Дюма</td>\n",
       "      <td>Три мушкетёра</td>\n",
       "      <td>100</td>\n",
       "    </tr>\n",
       "  </tbody>\n",
       "</table>\n",
       "<p>101 rows × 3 columns</p>\n",
       "</div>"
      ],
      "text/plain": [
       "                         author                        book file\n",
       "0              Джеральд Даррелл    Моя семья и другие звери    0\n",
       "1    Гавриил Романович Державин                     Записки    1\n",
       "2                  Джеймс Джойс  Портрет художника в юности    2\n",
       "3                  Джеймс Джойс                       Улисс    3\n",
       "4                Чарльз Диккенс             Большие надежды    4\n",
       "..                          ...                         ...  ...\n",
       "96               Александр Дюма          Виконт де Бражелон   96\n",
       "97               Александр Дюма           Граф Монте-Кристо   97\n",
       "98               Александр Дюма         Двадцать лет спустя   98\n",
       "99               Александр Дюма              Королева Марго   99\n",
       "100              Александр Дюма               Три мушкетёра  100\n",
       "\n",
       "[101 rows x 3 columns]"
      ]
     },
     "execution_count": 38,
     "metadata": {},
     "output_type": "execute_result"
    }
   ],
   "source": [
    "df"
   ]
  },
  {
   "cell_type": "code",
   "execution_count": 39,
   "id": "28cd2dce",
   "metadata": {},
   "outputs": [],
   "source": [
    "df.to_csv('table.csv')"
   ]
  }
 ],
 "metadata": {
  "kernelspec": {
   "display_name": "Python 3 (ipykernel)",
   "language": "python",
   "name": "python3"
  },
  "language_info": {
   "codemirror_mode": {
    "name": "ipython",
    "version": 3
   },
   "file_extension": ".py",
   "mimetype": "text/x-python",
   "name": "python",
   "nbconvert_exporter": "python",
   "pygments_lexer": "ipython3",
   "version": "3.8.10"
  }
 },
 "nbformat": 4,
 "nbformat_minor": 5
}
